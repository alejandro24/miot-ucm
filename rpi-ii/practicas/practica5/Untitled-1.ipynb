{
 "cells": [
  {
   "cell_type": "code",
   "execution_count": 53,
   "metadata": {},
   "outputs": [],
   "source": [
    "from typing import Set, Dict\n",
    "import random\n",
    "from functools import reduce\n",
    "import json"
   ]
  },
  {
   "cell_type": "code",
   "execution_count": 35,
   "metadata": {},
   "outputs": [],
   "source": [
    "\n",
    "id_edificio : str = \"EDIFICIO_PAALCALD\"\n",
    "plantas : Set[str] = set(\"P_\" + str(x) for x in [0, 1, 2, 3])\n",
    "alas : Set[str] = set([\"-N-\", \"-S-\", \"-E-\", \"-O-\"])\n",
    "salas : Set[int] = set([0, 1, 2, 3])\n",
    "sensores : Dict[str, str] = {\n",
    "    \"TEMP\": \n",
    "        {\n",
    "            \"name\": \"temperatura\",\n",
    "            \"range\":\n",
    "            { \n",
    "                \"min\" : 0,\n",
    "                \"max\" : 50\n",
    "            },\n",
    "        },\n",
    "    \"HUM\":\n",
    "        {\n",
    "            \"name\": \"humedad\",\n",
    "            \"range\":\n",
    "            { \n",
    "                \"min\" : 0,\n",
    "                \"max\" : 100\n",
    "            }\n",
    "        },\n",
    "    \"LUX\":\n",
    "        {\n",
    "            \"name\": \"luminosidad\",\n",
    "            \"range\": \n",
    "            { \n",
    "                \"min\": 0,\n",
    "                \"max\": 100,\n",
    "            },\n",
    "\n",
    "        }, \n",
    "    \"VIBR\": \n",
    "        {\n",
    "            \"name\": \"vibración\",\n",
    "            \"range\":\n",
    "            {\n",
    "                \"min\": 0,\n",
    "                \"max\": 100\n",
    "            },\n",
    "        },\n",
    "}"
   ]
  },
  {
   "cell_type": "code",
   "execution_count": 34,
   "metadata": {},
   "outputs": [
    {
     "data": {
      "text/plain": [
       "'EDIFICIO_PAALCALD/P_2/-S-/3'"
      ]
     },
     "execution_count": 34,
     "metadata": {},
     "output_type": "execute_result"
    }
   ],
   "source": [
    "reduce(lambda a, b: a + \"/\" + b, list(map(lambda x: str(random.choice(list(x))), [plantas, alas, salas])), id_edificio)"
   ]
  },
  {
   "cell_type": "code",
   "execution_count": 50,
   "metadata": {},
   "outputs": [],
   "source": [
    "def get_measurements():\n",
    "    return dict([sensor[\"name\"], random.randint(sensor[\"range\"][\"min\"], sensor[\"range\"][\"max\"])]\\\n",
    "            for sensor in sensores.values())"
   ]
  },
  {
   "cell_type": "code",
   "execution_count": 55,
   "metadata": {},
   "outputs": [
    {
     "data": {
      "text/plain": [
       "'{\"temperatura\": 17, \"humedad\": 51, \"luminosidad\": 88, \"vibraci\\\\u00f3n\": 86}'"
      ]
     },
     "execution_count": 55,
     "metadata": {},
     "output_type": "execute_result"
    }
   ],
   "source": [
    "json.dumps(get_measurements())"
   ]
  },
  {
   "cell_type": "code",
   "execution_count": null,
   "metadata": {},
   "outputs": [],
   "source": []
  }
 ],
 "metadata": {
  "kernelspec": {
   "display_name": "rpii",
   "language": "python",
   "name": "python3"
  },
  "language_info": {
   "codemirror_mode": {
    "name": "ipython",
    "version": 3
   },
   "file_extension": ".py",
   "mimetype": "text/x-python",
   "name": "python",
   "nbconvert_exporter": "python",
   "pygments_lexer": "ipython3",
   "version": "3.12.3"
  }
 },
 "nbformat": 4,
 "nbformat_minor": 2
}
